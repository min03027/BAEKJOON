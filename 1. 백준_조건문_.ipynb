{
  "nbformat": 4,
  "nbformat_minor": 0,
  "metadata": {
    "colab": {
      "provenance": [],
      "authorship_tag": "ABX9TyNgKffp5nauX5PqkJr5xnud",
      "include_colab_link": true
    },
    "kernelspec": {
      "name": "python3",
      "display_name": "Python 3"
    },
    "language_info": {
      "name": "python"
    }
  },
  "cells": [
    {
      "cell_type": "markdown",
      "metadata": {
        "id": "view-in-github",
        "colab_type": "text"
      },
      "source": [
        "<a href=\"https://colab.research.google.com/github/min03027/BAEKJOON/blob/main/%EB%B0%B1%EC%A4%80_%EC%A1%B0%EA%B1%B4%EB%AC%B8_.ipynb\" target=\"_parent\"><img src=\"https://colab.research.google.com/assets/colab-badge.svg\" alt=\"Open In Colab\"/></a>"
      ]
    },
    {
      "cell_type": "markdown",
      "source": [
        "#백준 1330 두 수 비교하기"
      ],
      "metadata": {
        "id": "M_BsUrj2P9DD"
      }
    },
    {
      "cell_type": "code",
      "execution_count": null,
      "metadata": {
        "colab": {
          "base_uri": "https://localhost:8080/"
        },
        "id": "tQ8Ih3qsJEhx",
        "outputId": "8369965b-b335-47d1-a54f-a14f643fc447"
      },
      "outputs": [
        {
          "output_type": "stream",
          "name": "stdout",
          "text": [
            "1 2\n",
            "<\n",
            "10 2\n",
            ">\n",
            "5 5\n",
            "==\n"
          ]
        }
      ],
      "source": [
        " for i in range(3):\n",
        "   a,b = map(int,input().split())\n",
        "   if a > b:\n",
        "     print(\">\")\n",
        "   elif a ==b:\n",
        "    print(\"==\")\n",
        "   else :\n",
        "    print(\"<\")\n",
        "\n"
      ]
    },
    {
      "cell_type": "markdown",
      "source": [
        "내코드 : 컴파일 오류"
      ],
      "metadata": {
        "id": "-iByZCQ3QGIW"
      }
    },
    {
      "cell_type": "code",
      "source": [
        "A, B = map(int,input().split())\n",
        "if A>B:\n",
        "\tprint(\">\")\n",
        "elif A<B:\n",
        "\tprint(\"<\")\n",
        "elif A==B:\n",
        "\tprint(\"==\")"
      ],
      "metadata": {
        "id": "LxN_mKgCJvTW"
      },
      "execution_count": null,
      "outputs": []
    },
    {
      "cell_type": "markdown",
      "source": [
        "이후 수정 코드"
      ],
      "metadata": {
        "id": "MhBQNtomQVRk"
      }
    },
    {
      "cell_type": "markdown",
      "source": [
        "#백준 9498 시험 성적"
      ],
      "metadata": {
        "id": "L_w7uGW_QDN9"
      }
    },
    {
      "cell_type": "code",
      "source": [
        "score = int(input())\n",
        "if 100>= score >= 90 :\n",
        "  print(\"A\")\n",
        "elif 89>= score >= 80 :\n",
        "  print(\"B\")\n",
        "elif 79>= score >= 70 :\n",
        "  print(\"C\")\n",
        "elif 69>= score >= 60 :\n",
        "  print(\"D\")\n",
        "else :\n",
        "  print(\"F\")"
      ],
      "metadata": {
        "colab": {
          "base_uri": "https://localhost:8080/"
        },
        "id": "DQIFbD7WNn-h",
        "outputId": "a8e04a24-eac7-47f0-e65c-9cc72c11fb26"
      },
      "execution_count": null,
      "outputs": [
        {
          "output_type": "stream",
          "name": "stdout",
          "text": [
            "100\n",
            "A\n"
          ]
        }
      ]
    },
    {
      "cell_type": "markdown",
      "source": [
        "#백준 2753 윤년"
      ],
      "metadata": {
        "id": "tB7xSNt_P2RU"
      }
    },
    {
      "cell_type": "code",
      "source": [
        "year= int(input())\n",
        "if year > 4000 or year <1 :\n",
        "  print(\"다시 입력하세요\")\n",
        "if (year%4==0 and year%100!=0) or year%400==0 :\n",
        "  print(\"1\")\n",
        "else :\n",
        "  print(\"0\")"
      ],
      "metadata": {
        "colab": {
          "base_uri": "https://localhost:8080/"
        },
        "id": "mU0ky4FpOa7e",
        "outputId": "836bb251-6c03-42bf-a9a8-c78d6003cac3"
      },
      "execution_count": null,
      "outputs": [
        {
          "output_type": "stream",
          "name": "stdout",
          "text": [
            "1999\n",
            "0\n"
          ]
        }
      ]
    },
    {
      "cell_type": "markdown",
      "source": [
        "# 백준 사분면 고르기  14681"
      ],
      "metadata": {
        "id": "iLsjbl1YQak1"
      }
    },
    {
      "cell_type": "code",
      "source": [
        "a = int(input())\n",
        "b = int(input())\n",
        "if a > 0 :\n",
        "  if b >0 :\n",
        "    print(\"1\")\n",
        "  else :\n",
        "    print(\"4\")\n",
        "else :\n",
        "  if b >0:\n",
        "    print(\"2\")\n",
        "  else :\n",
        "    print(\"3\")\n"
      ],
      "metadata": {
        "colab": {
          "base_uri": "https://localhost:8080/"
        },
        "id": "AnYkrmnpPqY2",
        "outputId": "f8b51fdb-bc15-467b-9463-3bc5cd3e5428"
      },
      "execution_count": null,
      "outputs": [
        {
          "output_type": "stream",
          "name": "stdout",
          "text": [
            "12\n",
            "5\n",
            "1\n"
          ]
        }
      ]
    },
    {
      "cell_type": "markdown",
      "source": [
        "## 알람 시계 2884\n",
        "재미있는 문제 !!!"
      ],
      "metadata": {
        "id": "gyvQTM_mXFDY"
      }
    },
    {
      "cell_type": "code",
      "source": [
        "H,M = map (int,input().split())\n",
        "if M >= 45:\n",
        "  print(H,(M-45))\n",
        "elif H != 0 and M < 45 :\n",
        "  print((H-1),(M+15))\n",
        "else :\n",
        "  print(\"23\",(M+15))"
      ],
      "metadata": {
        "colab": {
          "base_uri": "https://localhost:8080/"
        },
        "id": "1sK7_E8KWttR",
        "outputId": "36e18a11-b589-4aa4-a95f-f1566e4c272a"
      },
      "execution_count": null,
      "outputs": [
        {
          "output_type": "stream",
          "name": "stdout",
          "text": [
            "23 40\n",
            "22 55\n"
          ]
        }
      ]
    },
    {
      "cell_type": "markdown",
      "source": [
        "# 오븐 시계 2525"
      ],
      "metadata": {
        "id": "kZgEJiyAY91A"
      }
    },
    {
      "cell_type": "code",
      "source": [
        "A,B = map(int, input().split())\n",
        "C = int(input())\n",
        "T = (B+C)//60\n",
        "M = (B+C)%60\n",
        "if A+T==24:\n",
        "  print(0,M)\n",
        "else:\n",
        "  print(A+T,M)"
      ],
      "metadata": {
        "colab": {
          "base_uri": "https://localhost:8080/"
        },
        "id": "3wpQSwl7YXzN",
        "outputId": "2e26d32d-b34a-4084-b398-af9efff356a9"
      },
      "execution_count": null,
      "outputs": [
        {
          "output_type": "stream",
          "name": "stdout",
          "text": [
            "23 48\n",
            "25\n",
            "0 13\n"
          ]
        }
      ]
    },
    {
      "cell_type": "markdown",
      "source": [
        "위에는 왜.. 안될까?"
      ],
      "metadata": {
        "id": "TvuCAo11fRCr"
      }
    },
    {
      "cell_type": "code",
      "source": [
        "A,B = map(int, input().split())\n",
        "C = int(input())\n",
        "A += C // 60\n",
        "B += C % 60\n",
        "\n",
        "if B >= 60:\n",
        "  A += 1\n",
        "  B -= 60\n",
        "\n",
        "if A >=24:\n",
        "  A -= 24\n",
        "\n",
        "print(A,B)"
      ],
      "metadata": {
        "colab": {
          "base_uri": "https://localhost:8080/"
        },
        "id": "58Cmx_b2cUWV",
        "outputId": "6cc3c64e-3ab2-48f5-c7ad-9c4c6ddd94da"
      },
      "execution_count": null,
      "outputs": [
        {
          "output_type": "stream",
          "name": "stdout",
          "text": [
            "23 48\n",
            "25\n",
            "0 13\n"
          ]
        }
      ]
    },
    {
      "cell_type": "markdown",
      "source": [
        "##주사위 세개 2480"
      ],
      "metadata": {
        "id": "I4_IpE0lfaDO"
      }
    },
    {
      "cell_type": "code",
      "source": [
        "a,b,c = map(int, input().split())\n",
        "num = [a,b,c]\n",
        "if a==b==c:\n",
        "  print(10000+a*1000)\n",
        "elif a==b or b==c or a==c :\n",
        "  if a==b or b==c:\n",
        "    print(1000+b*100)\n",
        "  elif a==c:\n",
        "    print(1000+a*100)\n",
        "else :\n",
        "  result = max(num)\n",
        "  print(int(result)*100)"
      ],
      "metadata": {
        "colab": {
          "base_uri": "https://localhost:8080/"
        },
        "id": "HwYhE878eDK1",
        "outputId": "dba6007a-0572-44d2-c0d3-fa6bc4b90689"
      },
      "execution_count": null,
      "outputs": [
        {
          "output_type": "stream",
          "name": "stdout",
          "text": [
            "6 2 5\n",
            "600\n"
          ]
        }
      ]
    }
  ]
}
