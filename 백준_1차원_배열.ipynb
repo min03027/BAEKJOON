{
  "nbformat": 4,
  "nbformat_minor": 0,
  "metadata": {
    "colab": {
      "provenance": [],
      "authorship_tag": "ABX9TyPCm/1wcMlTcuTunxEztz8T",
      "include_colab_link": true
    },
    "kernelspec": {
      "name": "python3",
      "display_name": "Python 3"
    },
    "language_info": {
      "name": "python"
    }
  },
  "cells": [
    {
      "cell_type": "markdown",
      "metadata": {
        "id": "view-in-github",
        "colab_type": "text"
      },
      "source": [
        "<a href=\"https://colab.research.google.com/github/min03027/BAEKJOON/blob/main/%EB%B0%B1%EC%A4%80_1%EC%B0%A8%EC%9B%90_%EB%B0%B0%EC%97%B4.ipynb\" target=\"_parent\"><img src=\"https://colab.research.google.com/assets/colab-badge.svg\" alt=\"Open In Colab\"/></a>"
      ]
    },
    {
      "cell_type": "markdown",
      "source": [
        "#10807번 개수 세기*\n",
        "다시 풀어보기 !!"
      ],
      "metadata": {
        "id": "uzxepWevHjVC"
      }
    },
    {
      "cell_type": "code",
      "execution_count": 3,
      "metadata": {
        "colab": {
          "base_uri": "https://localhost:8080/"
        },
        "id": "_UdAsK2DHXyB",
        "outputId": "8eb29d19-03d7-4c45-fe9d-4c866342dfda"
      },
      "outputs": [
        {
          "output_type": "stream",
          "name": "stdout",
          "text": [
            "11\n",
            "1 4 1 2 4 2 4 2 3 4 4\n",
            "2\n",
            "0\n"
          ]
        }
      ],
      "source": [
        "N = int(input())\n",
        "num= list(input().split())\n",
        "V = int(input())\n",
        "count = num.count(V)\n",
        "print(count)\n"
      ]
    },
    {
      "cell_type": "markdown",
      "source": [
        "나의 코드"
      ],
      "metadata": {
        "id": "zF92xZSUL2j7"
      }
    },
    {
      "cell_type": "code",
      "source": [
        "N = int(input())\n",
        "n_list = list(map(int,input().split()))\n",
        "v=int(input())\n",
        "print(n_list.count(v))"
      ],
      "metadata": {
        "colab": {
          "base_uri": "https://localhost:8080/"
        },
        "id": "SmAQX20zL3qn",
        "outputId": "03a4e75a-a31d-4053-8bdc-24313cd0a72b"
      },
      "execution_count": 4,
      "outputs": [
        {
          "output_type": "stream",
          "name": "stdout",
          "text": [
            "11\n",
            "1 4 1 2 4 2 4 2 3 4 4\n",
            "2\n",
            "3\n"
          ]
        }
      ]
    },
    {
      "cell_type": "markdown",
      "source": [
        "수정 코드"
      ],
      "metadata": {
        "id": "SvFjB8EUMN9T"
      }
    },
    {
      "cell_type": "markdown",
      "source": [
        "#10871번 X보다 작은 수"
      ],
      "metadata": {
        "id": "UJDQGF97IPX4"
      }
    },
    {
      "cell_type": "code",
      "source": [
        "N, X = map(int,input().split())\n",
        "a_list = list(map(int,input().split()))\n",
        "for i in range(N):\n",
        "  if a_list[i] < X:\n",
        "   print(a_list[i],end=' ')\n",
        "\n",
        "# for i in range 주목 !!"
      ],
      "metadata": {
        "colab": {
          "base_uri": "https://localhost:8080/"
        },
        "id": "JPhBFcS2ISgp",
        "outputId": "77c9a2fa-be68-4ee4-c03b-96f9d72b3d13"
      },
      "execution_count": 9,
      "outputs": [
        {
          "output_type": "stream",
          "name": "stdout",
          "text": [
            "10 5\n",
            "1 10 4 9 2 3 8 5 7 6\n",
            "1 4 2 3 "
          ]
        }
      ]
    },
    {
      "cell_type": "markdown",
      "source": [
        "#10818번 최소, 최대"
      ],
      "metadata": {
        "id": "GizNeUbyIS_Q"
      }
    },
    {
      "cell_type": "code",
      "source": [
        "N = int(input())\n",
        "n_list = list(map(int,input().split()))\n",
        "print(min(n_list), end =' ')\n",
        "print(max(n_list))"
      ],
      "metadata": {
        "colab": {
          "base_uri": "https://localhost:8080/"
        },
        "id": "jRQlguyJIXBv",
        "outputId": "6dcd41f8-1539-43c2-fe27-2c8b716e9f62"
      },
      "execution_count": 12,
      "outputs": [
        {
          "output_type": "stream",
          "name": "stdout",
          "text": [
            "5\n",
            "20 10 35 30 7\n",
            "7 35\n"
          ]
        }
      ]
    },
    {
      "cell_type": "markdown",
      "source": [
        "#2562번 최댓값*"
      ],
      "metadata": {
        "id": "0fjwbO5rIXYW"
      }
    },
    {
      "cell_type": "code",
      "source": [
        "a_list = []\n",
        "for i in range(9):\n",
        "  a = int(input())\n",
        "  a_list.append(a)\n",
        "print(max(a_list))\n",
        "print(a_list.index(max(a_list))+1)"
      ],
      "metadata": {
        "colab": {
          "base_uri": "https://localhost:8080/"
        },
        "id": "iz4YIKhrIcs7",
        "outputId": "47f55b88-e553-4c4c-8664-938871ba0d39"
      },
      "execution_count": 17,
      "outputs": [
        {
          "output_type": "stream",
          "name": "stdout",
          "text": [
            "3\n",
            "29\n",
            "38\n",
            "12\n",
            "57\n",
            "74\n",
            "40\n",
            "85\n",
            "61\n",
            "85\n",
            "8\n"
          ]
        }
      ]
    },
    {
      "cell_type": "markdown",
      "source": [
        "#10810번 공 넣기**"
      ],
      "metadata": {
        "id": "d-tO4E2sIdNh"
      }
    },
    {
      "cell_type": "code",
      "source": [
        "n, m = map(int,input().split())\n",
        "list = []\n",
        "list=[0 for i in range(n)]\n",
        "for i in range (m):\n",
        "  i,j,k = map(int,input().split())\n"
      ],
      "metadata": {
        "id": "kPaERj5lIgMW"
      },
      "execution_count": null,
      "outputs": []
    },
    {
      "cell_type": "code",
      "source": [
        "n, m = map(int,input().split())\n",
        "list = [0] * (N+1)\n",
        "\n",
        "for _ in range (m):\n",
        "  i,j,k = map(int,input().split())\n",
        "  for a in range(i,j+1):\n",
        "    list[a] = k\n",
        "\n",
        "for i in range(1, N+1):\n",
        "  print(list[i], end=' ')"
      ],
      "metadata": {
        "colab": {
          "base_uri": "https://localhost:8080/"
        },
        "id": "ceKnfAQ_aUvj",
        "outputId": "db61877e-64cd-476f-b7a6-eea2eed8f3fc"
      },
      "execution_count": 20,
      "outputs": [
        {
          "output_type": "stream",
          "name": "stdout",
          "text": [
            "5 4\n",
            "1 2 3\n",
            "3 4 4\n",
            "1 4 1\n",
            "2 2 2\n",
            "1 2 1 1 0 "
          ]
        }
      ]
    },
    {
      "cell_type": "markdown",
      "source": [
        "런타임 에러"
      ],
      "metadata": {
        "id": "hQbIwRK4bWlz"
      }
    },
    {
      "cell_type": "code",
      "source": [
        "N, M = map(int, input().split())\n",
        "basket = [0 for _ in range(N)]\n",
        "\n",
        "for _ in range(M):\n",
        "    i,j,k = map(int, input().split())\n",
        "    for n in range(i,j+1):\n",
        "        basket[n-1] = k\n",
        "\n",
        "for n in range(N):\n",
        "    print(basket[n], end = ' ')"
      ],
      "metadata": {
        "id": "mczN9L4Lbb2z"
      },
      "execution_count": null,
      "outputs": []
    },
    {
      "cell_type": "markdown",
      "source": [
        "제출 코드 꼭 다기 보기,,,"
      ],
      "metadata": {
        "id": "Hz9mpfPFbgoe"
      }
    },
    {
      "cell_type": "markdown",
      "source": [
        "#10813번 공 바꾸기**"
      ],
      "metadata": {
        "id": "tuGGSN0C0dB1"
      }
    },
    {
      "cell_type": "code",
      "source": [
        "N, M = map(int,input().split())\n",
        "basket = [1 for _ in range(N)]\n",
        "temp =0\n",
        "temp_list = 0\n",
        "\n",
        "for _ in range(M):\n",
        "  i,j=map(int,input().split())\n",
        "  i = temp\n",
        "  i = j\n",
        "  j = temp\n",
        "  basket[i] = temp_list\n",
        "  basket[i]= basket[j]\n",
        "  basket[j] = temp_list\n",
        "\n",
        "print(basket)"
      ],
      "metadata": {
        "colab": {
          "base_uri": "https://localhost:8080/"
        },
        "id": "8TNJQm170hfQ",
        "outputId": "5d759380-6948-46e2-bed7-59ae91068bdc"
      },
      "execution_count": 4,
      "outputs": [
        {
          "output_type": "stream",
          "name": "stdout",
          "text": [
            "5 4\n",
            "1 2\n",
            "3 4\n",
            "1 4\n",
            "2 2\n",
            "[0, 1, 0, 1, 0]\n"
          ]
        }
      ]
    },
    {
      "cell_type": "markdown",
      "source": [
        "원래코드"
      ],
      "metadata": {
        "id": "1B0T-sih2lyl"
      }
    },
    {
      "cell_type": "code",
      "source": [
        "N,M = map(int, input().split())\n",
        "\n",
        "basket = [i for i in range(1,N+1)]\n",
        "\n",
        "for i in range(M):\n",
        "    i,j = map(int, input().split())\n",
        "    basket[i-1], basket[j-1] = basket[j-1], basket[i-1]\n",
        "\n",
        "for i in range(N):\n",
        "    print(basket[i], end = ' ')"
      ],
      "metadata": {
        "id": "QqZ9lcg72oaR"
      },
      "execution_count": null,
      "outputs": []
    },
    {
      "cell_type": "markdown",
      "source": [
        "파이썬은 temp선언 없이 바꿀 수 있음\n",
        "* 중요 문제 다시 풀어보기"
      ],
      "metadata": {
        "id": "KYUydmxQ2qpH"
      }
    },
    {
      "cell_type": "markdown",
      "source": [
        "#5597번 과제 안 내신 분..?"
      ],
      "metadata": {
        "id": "_kegMVVJIhH_"
      }
    },
    {
      "cell_type": "code",
      "source": [
        "stu = [1 for i in range (1,31)]\n",
        "print(stu)"
      ],
      "metadata": {
        "colab": {
          "base_uri": "https://localhost:8080/"
        },
        "id": "l8olnZglIn33",
        "outputId": "754b1eae-a09e-4fb5-81c2-3d1518fed3f1"
      },
      "execution_count": 7,
      "outputs": [
        {
          "output_type": "stream",
          "name": "stdout",
          "text": [
            "[1, 1, 1, 1, 1, 1, 1, 1, 1, 1, 1, 1, 1, 1, 1, 1, 1, 1, 1, 1, 1, 1, 1, 1, 1, 1, 1, 1, 1, 1]\n"
          ]
        }
      ]
    },
    {
      "cell_type": "code",
      "source": [
        "stu = [i for i in range (1,31)]\n",
        "print(stu)"
      ],
      "metadata": {
        "colab": {
          "base_uri": "https://localhost:8080/"
        },
        "outputId": "abec1209-490a-44b2-a4b0-0239e03bbbc4",
        "id": "PqbnJn4x4bq_"
      },
      "execution_count": 8,
      "outputs": [
        {
          "output_type": "stream",
          "name": "stdout",
          "text": [
            "[1, 2, 3, 4, 5, 6, 7, 8, 9, 10, 11, 12, 13, 14, 15, 16, 17, 18, 19, 20, 21, 22, 23, 24, 25, 26, 27, 28, 29, 30]\n"
          ]
        }
      ]
    },
    {
      "cell_type": "code",
      "source": [
        "stu = [i for i in range (1,31)]\n",
        "for i in range(28):\n",
        "  num = int(input())\n",
        "  if num in stu:\n",
        "    stu.remove(num)\n",
        "\n",
        "print(stu[0])\n",
        "print(stu[1])"
      ],
      "metadata": {
        "colab": {
          "base_uri": "https://localhost:8080/"
        },
        "id": "UvclnGp64ZvD",
        "outputId": "0af1b45c-1275-4600-a34e-0bc19b64cea3"
      },
      "execution_count": 11,
      "outputs": [
        {
          "output_type": "stream",
          "name": "stdout",
          "text": [
            "3\n",
            "1\n",
            "4\n",
            "5\n",
            "7\n",
            "9\n",
            "6\n",
            "10\n",
            "11\n",
            "12\n",
            "13\n",
            "14\n",
            "15\n",
            "16\n",
            "17\n",
            "18\n",
            "19\n",
            "20\n",
            "21\n",
            "22\n",
            "23\n",
            "24\n",
            "25\n",
            "26\n",
            "27\n",
            "28\n",
            "29\n",
            "30\n",
            "2\n",
            "8\n"
          ]
        }
      ]
    },
    {
      "cell_type": "markdown",
      "source": [
        "#3052번 나머지"
      ],
      "metadata": {
        "id": "0d3S4ZpYIoZu"
      }
    },
    {
      "cell_type": "code",
      "source": [
        "list =[]\n",
        "for i in range (10):\n",
        "  a = int(input())\n",
        "  v = a%42\n",
        "  for v in list:\n",
        "    if v not in list:\n",
        "        list.append(v)\n",
        "size = len(list)\n",
        "if size ==0:\n",
        "  size =+ 1\n",
        "print(size)"
      ],
      "metadata": {
        "colab": {
          "base_uri": "https://localhost:8080/"
        },
        "id": "jKlBD3XnIqY7",
        "outputId": "bfe80071-52e6-48e9-82db-957e6ebe6ffa"
      },
      "execution_count": 18,
      "outputs": [
        {
          "output_type": "stream",
          "name": "stdout",
          "text": [
            "42\n",
            "84\n",
            "252\n",
            "420\n",
            "840\n",
            "42\n",
            "42\n",
            "42\n",
            "42\n",
            "42\n",
            "1\n"
          ]
        }
      ]
    },
    {
      "cell_type": "markdown",
      "source": [
        "set에서 중복 제거가 되지 않는 이유??"
      ],
      "metadata": {
        "id": "q-nay8ZB8kyp"
      }
    },
    {
      "cell_type": "code",
      "source": [
        "arr = []\n",
        "for i in range(10):\n",
        "    a = int(input())\n",
        "    arr.append(a % 42)\n",
        "print(len(set(arr)))"
      ],
      "metadata": {
        "id": "csMY0YP3-R0x"
      },
      "execution_count": null,
      "outputs": []
    },
    {
      "cell_type": "markdown",
      "source": [
        "제출 코드....."
      ],
      "metadata": {
        "id": "dep4CRKe-W8d"
      }
    },
    {
      "cell_type": "markdown",
      "source": [
        "#10811번 바구니 뒤집기***\n",
        "문제이해에서 난관 봉착"
      ],
      "metadata": {
        "id": "u0E1wFtaIqxs"
      }
    },
    {
      "cell_type": "code",
      "source": [
        "N,M = map(int, input().split())\n",
        "\n",
        "basket = [i for i in range(1,N+1)]\n",
        "\n",
        "for i in range(M):\n",
        "    i,j = map(int, input().split())\n",
        "    temp = basket[i-1:j]\n",
        "    temp.reverse()\n",
        "    basket[i-1:j]= temp\n",
        "\n",
        "for i in range(N):\n",
        "    print(basket[i], end = ' ')"
      ],
      "metadata": {
        "colab": {
          "base_uri": "https://localhost:8080/"
        },
        "id": "nCXTmWH--ZTP",
        "outputId": "d1f3d34b-245c-4746-d378-70289b4dc976"
      },
      "execution_count": 19,
      "outputs": [
        {
          "output_type": "stream",
          "name": "stdout",
          "text": [
            "5 4\n",
            "1 2\n",
            "3 4\n",
            "1 4\n",
            "2 2\n",
            "3 4 1 2 5 "
          ]
        }
      ]
    },
    {
      "cell_type": "markdown",
      "source": [
        "#1546번 평균"
      ],
      "metadata": {
        "id": "OpqNuIQnItU8"
      }
    },
    {
      "cell_type": "code",
      "source": [
        "N = int(input())\n",
        "score =[]\n",
        "score = list(map(int,input().split()))\n",
        "ave = sum(score) / len(score)\n",
        "print(ave)"
      ],
      "metadata": {
        "colab": {
          "base_uri": "https://localhost:8080/",
          "height": 266
        },
        "id": "k77ikn3wIwaf",
        "outputId": "7644e2aa-dfa4-4e32-f195-ee341fa6b72b"
      },
      "execution_count": 27,
      "outputs": [
        {
          "name": "stdout",
          "output_type": "stream",
          "text": [
            "40 60 80\n"
          ]
        },
        {
          "output_type": "error",
          "ename": "TypeError",
          "evalue": "ignored",
          "traceback": [
            "\u001b[0;31m---------------------------------------------------------------------------\u001b[0m",
            "\u001b[0;31mTypeError\u001b[0m                                 Traceback (most recent call last)",
            "\u001b[0;32m<ipython-input-27-149dc9a2a64a>\u001b[0m in \u001b[0;36m<cell line: 3>\u001b[0;34m()\u001b[0m\n\u001b[1;32m      1\u001b[0m \u001b[0;31m#N = int(input())\u001b[0m\u001b[0;34m\u001b[0m\u001b[0;34m\u001b[0m\u001b[0m\n\u001b[1;32m      2\u001b[0m \u001b[0mscore\u001b[0m \u001b[0;34m=\u001b[0m\u001b[0;34m[\u001b[0m\u001b[0;34m]\u001b[0m\u001b[0;34m\u001b[0m\u001b[0;34m\u001b[0m\u001b[0m\n\u001b[0;32m----> 3\u001b[0;31m \u001b[0mscore\u001b[0m \u001b[0;34m=\u001b[0m \u001b[0mlist\u001b[0m\u001b[0;34m(\u001b[0m\u001b[0mmap\u001b[0m\u001b[0;34m(\u001b[0m\u001b[0mint\u001b[0m\u001b[0;34m,\u001b[0m\u001b[0minput\u001b[0m\u001b[0;34m(\u001b[0m\u001b[0;34m)\u001b[0m\u001b[0;34m.\u001b[0m\u001b[0msplit\u001b[0m\u001b[0;34m(\u001b[0m\u001b[0;34m)\u001b[0m\u001b[0;34m)\u001b[0m\u001b[0;34m)\u001b[0m\u001b[0;34m\u001b[0m\u001b[0;34m\u001b[0m\u001b[0m\n\u001b[0m\u001b[1;32m      4\u001b[0m \u001b[0mave\u001b[0m \u001b[0;34m=\u001b[0m \u001b[0msum\u001b[0m\u001b[0;34m(\u001b[0m\u001b[0mscore\u001b[0m\u001b[0;34m)\u001b[0m \u001b[0;34m/\u001b[0m \u001b[0mlen\u001b[0m\u001b[0;34m(\u001b[0m\u001b[0mscore\u001b[0m\u001b[0;34m)\u001b[0m\u001b[0;34m\u001b[0m\u001b[0;34m\u001b[0m\u001b[0m\n\u001b[1;32m      5\u001b[0m \u001b[0mprint\u001b[0m\u001b[0;34m(\u001b[0m\u001b[0mave\u001b[0m\u001b[0;34m)\u001b[0m\u001b[0;34m\u001b[0m\u001b[0;34m\u001b[0m\u001b[0m\n",
            "\u001b[0;31mTypeError\u001b[0m: 'list' object is not callable"
          ]
        }
      ]
    },
    {
      "cell_type": "markdown",
      "source": [
        "문제 이해 부족 보충 필요"
      ],
      "metadata": {
        "id": "5xKkUetuD1g_"
      }
    },
    {
      "cell_type": "code",
      "source": [
        "N = int(input())\n",
        "score = list(map(int, input().split()))\n",
        "M = max(score)\n",
        "sum = 0\n",
        "\n",
        "for i in range(N):\n",
        "    score[i] = score[i]/M*100\n",
        "    sum += score[i]\n",
        "\n",
        "avg = sum/N\n",
        "print(avg)"
      ],
      "metadata": {
        "id": "0QK8YWqEDLfS"
      },
      "execution_count": null,
      "outputs": []
    }
  ]
}