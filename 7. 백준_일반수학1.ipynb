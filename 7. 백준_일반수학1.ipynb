{
  "nbformat": 4,
  "nbformat_minor": 0,
  "metadata": {
    "colab": {
      "provenance": [],
      "authorship_tag": "ABX9TyMleEH6bSChY/gOK8wpaHKq",
      "include_colab_link": true
    },
    "kernelspec": {
      "name": "python3",
      "display_name": "Python 3"
    },
    "language_info": {
      "name": "python"
    }
  },
  "cells": [
    {
      "cell_type": "markdown",
      "metadata": {
        "id": "view-in-github",
        "colab_type": "text"
      },
      "source": [
        "<a href=\"https://colab.research.google.com/github/min03027/BAEKJOON/blob/main/%EB%B0%B1%EC%A4%80_%EC%9D%BC%EB%B0%98%EC%88%98%ED%95%991.ipynb\" target=\"_parent\"><img src=\"https://colab.research.google.com/assets/colab-badge.svg\" alt=\"Open In Colab\"/></a>"
      ]
    },
    {
      "cell_type": "markdown",
      "source": [
        "#2745번 진법 변환"
      ],
      "metadata": {
        "id": "Tn7e1EwcMMX_"
      }
    },
    {
      "cell_type": "code",
      "source": [
        "N, B = input().split()\n",
        "ary = \"0123456789ABCDEFGHIJKLMNOPQRSTUVWXYZ\"\n",
        "\n",
        "N = N[::-1]\n",
        "result = 0\n",
        "\n",
        "for i,n in enumerate(N):\n",
        "  result +=(int(B)**i)*(ary.index(n))\n",
        "print(result)"
      ],
      "metadata": {
        "colab": {
          "base_uri": "https://localhost:8080/"
        },
        "id": "XS06rSOBMP3U",
        "outputId": "2b1753b7-e9a4-4498-aa2b-47122cd2cd53"
      },
      "execution_count": 2,
      "outputs": [
        {
          "output_type": "stream",
          "name": "stdout",
          "text": [
            "ZZZZZ 36\n",
            "60466175\n"
          ]
        }
      ]
    },
    {
      "cell_type": "markdown",
      "source": [
        "1. enumerate함수에 대한 설명\n",
        "https://www.entity.co.kr/entry/512-%ED%8C%8C%EC%9D%B4%EC%8D%AC%EC%9D%98-Enumerate-%ED%95%A8%EC%88%98-%EB%A3%A8%ED%94%84-%ED%8A%9C%ED%94%8C-%EB%AC%B8%EC%9E%90%EC%97%B4"
      ],
      "metadata": {
        "id": "1hZyZZo3OtJK"
      }
    },
    {
      "cell_type": "markdown",
      "source": [
        "#11005번 진법 변환2"
      ],
      "metadata": {
        "id": "9eOYPpF3MQrH"
      }
    },
    {
      "cell_type": "code",
      "source": [
        "N,B = map(int,input().split())\n",
        "ary = \"0123456789ABCDEFGHIJKLMNOPQRSTUVWXYZ\"\n",
        "s = ''\n",
        "\n",
        "while N:\n",
        "  s += str(ary[N%B])\n",
        "  N //= B\n",
        "#//= 왼쪽 변수에 오른쪽 값을 나눈 후 그 몫을 왼쪽 변수에 할당한다\n",
        "print(s[::-1])\n"
      ],
      "metadata": {
        "colab": {
          "base_uri": "https://localhost:8080/"
        },
        "id": "DknxS2VWMTcH",
        "outputId": "ce64ad3d-6f8d-41a4-fe29-3d426c5d3776"
      },
      "execution_count": 5,
      "outputs": [
        {
          "output_type": "stream",
          "name": "stdout",
          "text": [
            "60466175 36\n",
            "ZZZZZ\n"
          ]
        }
      ]
    },
    {
      "cell_type": "markdown",
      "source": [
        "#2720번 세탁소 사장 동혁"
      ],
      "metadata": {
        "id": "ZVQLDVJZMT9Z"
      }
    },
    {
      "cell_type": "code",
      "source": [
        "T = int(input())\n",
        "Quarter=0\n",
        "Dime=0\n",
        "Nickel= 0\n",
        "num = 0\n",
        "for i in range(T):\n",
        "  C = int(input())\n",
        "  Quarter,num = divmod(C,25)\n",
        "  Dime,num = divmod(num,10)\n",
        "  Nickel,num = divmod(num,5)\n",
        "  print(Quarter,Dime,Nickel,num)"
      ],
      "metadata": {
        "colab": {
          "base_uri": "https://localhost:8080/"
        },
        "id": "BID9a29wMWo4",
        "outputId": "4ad7e03f-d038-4ec8-dec3-78cab51a5b22"
      },
      "execution_count": 8,
      "outputs": [
        {
          "output_type": "stream",
          "name": "stdout",
          "text": [
            "3\n",
            "124\n",
            "4 2 0 4\n",
            "25\n",
            "1 0 0 0\n",
            "194\n",
            "7 1 1 4\n"
          ]
        }
      ]
    },
    {
      "cell_type": "markdown",
      "source": [
        "#2903번 중앙 이동 알고리즘"
      ],
      "metadata": {
        "id": "7wIKmcYtMXLw"
      }
    },
    {
      "cell_type": "code",
      "source": [
        "print((2**int(input())+1)**2)"
      ],
      "metadata": {
        "colab": {
          "base_uri": "https://localhost:8080/"
        },
        "id": "3OgEmRDNMZts",
        "outputId": "e0296d0e-f6ab-4c13-96d3-e51e5068fe95"
      },
      "execution_count": 10,
      "outputs": [
        {
          "output_type": "stream",
          "name": "stdout",
          "text": [
            "1\n",
            "9\n"
          ]
        }
      ]
    },
    {
      "cell_type": "markdown",
      "source": [
        "#2292번 벌집"
      ],
      "metadata": {
        "id": "UNpX0pmOMaez"
      }
    },
    {
      "cell_type": "code",
      "source": [
        "n = int(input())\n",
        "room = 1\n",
        "count = 1\n",
        "while n >room:\n",
        "  room +=6*count\n",
        "  count+=1\n",
        "\n",
        "print(count)"
      ],
      "metadata": {
        "colab": {
          "base_uri": "https://localhost:8080/"
        },
        "id": "kbN0zl93McjC",
        "outputId": "9be608b4-2006-402b-e437-03ddb9779979"
      },
      "execution_count": 14,
      "outputs": [
        {
          "output_type": "stream",
          "name": "stdout",
          "text": [
            "13\n",
            "3\n"
          ]
        }
      ]
    },
    {
      "cell_type": "markdown",
      "source": [
        "6을 기준으로 6씩 늘어갈 수록 건너야 하는 방의 개수가 늘어난다."
      ],
      "metadata": {
        "id": "Y3zJiipNbR-e"
      }
    },
    {
      "cell_type": "markdown",
      "source": [
        "#1193번 분수찾기*"
      ],
      "metadata": {
        "id": "VEORk24hMdMC"
      }
    },
    {
      "cell_type": "code",
      "source": [
        "num = int(input())\n",
        "line = 1\n",
        "while num > line:\n",
        "  num -= line\n",
        "  line += 1\n",
        "if line%2==0:\n",
        "  fir = num\n",
        "  sec = line - num +1\n",
        "elif line %2 ==1:\n",
        "  fir = line - num +1\n",
        "  sec = num\n",
        "\n",
        "print(fir,'/',sec,sep=\"\")"
      ],
      "metadata": {
        "colab": {
          "base_uri": "https://localhost:8080/"
        },
        "id": "V07NiNrYMf_X",
        "outputId": "aaa38ff9-fd19-4955-c036-32be99f2aa51"
      },
      "execution_count": 15,
      "outputs": [
        {
          "output_type": "stream",
          "name": "stdout",
          "text": [
            "1\n",
            "1/1\n"
          ]
        }
      ]
    },
    {
      "cell_type": "markdown",
      "source": [
        "2. 해당 문제의 배열에 대한 접근법\n",
        "https://abcdefgh123123.tistory.com/186"
      ],
      "metadata": {
        "id": "K913NibHc_8r"
      }
    },
    {
      "cell_type": "markdown",
      "source": [
        "#2869번 달팽이는 올라가고 싶다"
      ],
      "metadata": {
        "id": "Mmwu2prZMghl"
      }
    },
    {
      "cell_type": "code",
      "source": [
        "a,b,v = map(int,input().split())\n",
        "height =0\n",
        "day = 0\n",
        "if height<= v:\n",
        "  day += 1\n",
        "  height += a\n",
        "  if height == v:\n",
        "    print(day)\n",
        "  else :\n",
        "    height -= b\n"
      ],
      "metadata": {
        "colab": {
          "base_uri": "https://localhost:8080/"
        },
        "id": "bqHkwxtpMjeD",
        "outputId": "ea771cf6-5018-4fa2-f484-dbc01ea57344"
      },
      "execution_count": 17,
      "outputs": [
        {
          "name": "stdout",
          "output_type": "stream",
          "text": [
            "2 1 5\n"
          ]
        }
      ]
    },
    {
      "cell_type": "markdown",
      "source": [
        "반복문을 사용하지 않고 진행해야한다 !!"
      ],
      "metadata": {
        "id": "jg6lUPSshGbJ"
      }
    },
    {
      "cell_type": "code",
      "source": [
        "a,b,v = map(int,input().split())\n",
        "if (v-b)%(a-b)==0:\n",
        "  print((v-b)//(a-b))\n",
        "else:\n",
        "  print((v-b)//(a-b)+1)"
      ],
      "metadata": {
        "colab": {
          "base_uri": "https://localhost:8080/"
        },
        "id": "MywLi2zugE8x",
        "outputId": "2d3b1800-c872-4c0d-aa47-eda218cbe180"
      },
      "execution_count": 22,
      "outputs": [
        {
          "output_type": "stream",
          "name": "stdout",
          "text": [
            "5 1 6\n",
            "2\n"
          ]
        }
      ]
    }
  ]
}
