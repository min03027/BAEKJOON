{
  "nbformat": 4,
  "nbformat_minor": 0,
  "metadata": {
    "colab": {
      "provenance": [],
      "authorship_tag": "ABX9TyNu9SPnP3n+xO/i4L2fthDZ",
      "include_colab_link": true
    },
    "kernelspec": {
      "name": "python3",
      "display_name": "Python 3"
    },
    "language_info": {
      "name": "python"
    }
  },
  "cells": [
    {
      "cell_type": "markdown",
      "metadata": {
        "id": "view-in-github",
        "colab_type": "text"
      },
      "source": [
        "<a href=\"https://colab.research.google.com/github/min03027/BAEKJOON/blob/main/%EB%B0%B1%EC%A4%80_%EC%8B%AC%ED%99%941.ipynb\" target=\"_parent\"><img src=\"https://colab.research.google.com/assets/colab-badge.svg\" alt=\"Open In Colab\"/></a>"
      ]
    },
    {
      "cell_type": "markdown",
      "source": [
        "# 25083 새싹"
      ],
      "metadata": {
        "id": "ZeMVhP1wPuhA"
      }
    },
    {
      "cell_type": "code",
      "execution_count": null,
      "metadata": {
        "colab": {
          "base_uri": "https://localhost:8080/"
        },
        "id": "M0jninhgPm7F",
        "outputId": "0cfae163-4aac-4333-a26f-188c11d3752d"
      },
      "outputs": [
        {
          "output_type": "stream",
          "name": "stdout",
          "text": [
            "         ,r'\"7\n",
            "r`-_   ,'  ,/\n",
            " \\. \". L_r'\n",
            "   `~\\/\n",
            "      |\n",
            "      |\n"
          ]
        }
      ],
      "source": [
        "print('         ,r\\'\\\"7')\n",
        "print('r`-_   ,\\'  ,/')\n",
        "print(' \\\\. \\\". L_r\\'')\n",
        "print('   `~\\\\/')\n",
        "print('      |')\n",
        "print('      |')"
      ]
    },
    {
      "cell_type": "markdown",
      "source": [
        "#3003번 킹,퀸,룩,비숍,나이트,폰"
      ],
      "metadata": {
        "id": "SCsrKX0OPywV"
      }
    },
    {
      "cell_type": "code",
      "source": [
        "chess = [1,1,2,2,2,8]\n",
        "mine = list(map(int,input().split()))\n",
        "for i in range(6):\n",
        "  print(chess[i]-mine[i],end=' ')"
      ],
      "metadata": {
        "colab": {
          "base_uri": "https://localhost:8080/"
        },
        "id": "xOVV060NP6LB",
        "outputId": "ae135195-f431-4a10-faa3-7569d33f1616"
      },
      "execution_count": null,
      "outputs": [
        {
          "output_type": "stream",
          "name": "stdout",
          "text": [
            "0 1 2 2 2 7\n",
            "1 0 0 0 0 1 "
          ]
        }
      ]
    },
    {
      "cell_type": "markdown",
      "source": [
        "#2444번 별찍기 -7"
      ],
      "metadata": {
        "id": "RYoiz0ioP6fu"
      }
    },
    {
      "cell_type": "code",
      "source": [
        "line = int(input())\n",
        "for i in range(2*line-1):\n",
        "  for i in range(line):\n",
        "    print()"
      ],
      "metadata": {
        "id": "I4FkrmpuP_a5"
      },
      "execution_count": null,
      "outputs": []
    },
    {
      "cell_type": "code",
      "source": [
        "n = int(input())\n",
        "for i in range(1, n):\n",
        "    print(' '*(n-i) + '*'*(2*i-1))\n",
        "for i in range(n, 0, -1):\n",
        "    print(' '*(n-i) + '*'*(2*i-1))"
      ],
      "metadata": {
        "id": "puvfG2aoZhj0"
      },
      "execution_count": null,
      "outputs": []
    },
    {
      "cell_type": "markdown",
      "source": [
        "수정 답안"
      ],
      "metadata": {
        "id": "XaXOSjzfaKx2"
      }
    },
    {
      "cell_type": "markdown",
      "source": [
        "#10988번 팰린드롬인지 확인하기"
      ],
      "metadata": {
        "id": "_1JUFWVVQAM7"
      }
    },
    {
      "cell_type": "code",
      "source": [
        "word = input()\n",
        "reverse = ''\n",
        "for i in word:\n",
        "  reverse = i + reverse\n",
        "\n",
        "if word == reverse:\n",
        "  print(1)\n",
        "else:\n",
        "  print(0)"
      ],
      "metadata": {
        "colab": {
          "base_uri": "https://localhost:8080/"
        },
        "id": "0gdiYVLXQ2PF",
        "outputId": "27c2137d-7598-4139-e64a-0a33c29d8c12"
      },
      "execution_count": null,
      "outputs": [
        {
          "output_type": "stream",
          "name": "stdout",
          "text": [
            "baekjoon\n",
            "0\n"
          ]
        }
      ]
    },
    {
      "cell_type": "markdown",
      "source": [
        "#1157번 단어 공부"
      ],
      "metadata": {
        "id": "vSJTpILfQ3Bt"
      }
    },
    {
      "cell_type": "code",
      "source": [
        "word = input().lower()\n",
        "word_list = list(set(word))\n",
        "cnt =[]\n",
        "\n",
        "for i in word_list:\n",
        "  count = word.count(i)\n",
        "  cnt.append(count)\n",
        "\n",
        "if cnt.count(max(cnt)) >= 2:\n",
        "  print(\"?\")\n",
        "else:\n",
        "  print(word_list[(cnt.index(max(cnt)))].upper())"
      ],
      "metadata": {
        "colab": {
          "base_uri": "https://localhost:8080/"
        },
        "id": "eJqpNYDjcA2u",
        "outputId": "630f319a-598a-4b83-d546-74cac354e397"
      },
      "execution_count": null,
      "outputs": [
        {
          "output_type": "stream",
          "name": "stdout",
          "text": [
            "zZa\n",
            "Z\n"
          ]
        }
      ]
    },
    {
      "cell_type": "markdown",
      "source": [
        "다시 풀어볼 것!!"
      ],
      "metadata": {
        "id": "a2pIK38VdC8u"
      }
    },
    {
      "cell_type": "markdown",
      "source": [
        "#2941번 크로아티아 알파벳"
      ],
      "metadata": {
        "id": "rik7RONNQ6vW"
      }
    },
    {
      "cell_type": "code",
      "source": [
        "croatia = ['c=','c-','dz=','d-','lj','nj','s=','z=']\n",
        "word = input()\n",
        "num = 0\n",
        "if word in croatia:\n",
        "  num =+ 1\n",
        "print(num)"
      ],
      "metadata": {
        "colab": {
          "base_uri": "https://localhost:8080/"
        },
        "id": "NJK5evrxQ9nH",
        "outputId": "e01c60ca-d5cf-4dd9-a16a-505242bea591"
      },
      "execution_count": null,
      "outputs": [
        {
          "output_type": "stream",
          "name": "stdout",
          "text": [
            "ljes=njak\n",
            "0\n"
          ]
        }
      ]
    },
    {
      "cell_type": "code",
      "source": [
        "croatia = ['c=','c-','dz=','d-','lj','nj','s=','z=']\n",
        "str = input()\n",
        "\n",
        "for i in croatia :\n",
        "  if i in str :\n",
        "   str = str.replace(i,\"*\")\n",
        "\n",
        "print(len(str))"
      ],
      "metadata": {
        "colab": {
          "base_uri": "https://localhost:8080/"
        },
        "id": "LgwJGeNEfx_6",
        "outputId": "037ad7b3-c651-4631-e349-ff01ed157fba"
      },
      "execution_count": null,
      "outputs": [
        {
          "output_type": "stream",
          "name": "stdout",
          "text": [
            "ljes=njak\n",
            "6\n"
          ]
        }
      ]
    },
    {
      "cell_type": "markdown",
      "source": [
        "#1316번 그룹 단어 체커"
      ],
      "metadata": {
        "id": "0I8YrwxoQ-Wh"
      }
    },
    {
      "cell_type": "code",
      "source": [
        "N = int(input())\n",
        "word = []\n",
        "num = 1\n",
        "for i in range(N):\n",
        "  word.append =input()\n",
        "for j in range(N):\n",
        "  if word in word:\n",
        "    pass\n",
        "  else:\n",
        "    num += 1\n",
        "print(num)"
      ],
      "metadata": {
        "id": "DVA-1KzEWQWu"
      },
      "execution_count": null,
      "outputs": []
    },
    {
      "cell_type": "code",
      "source": [
        "n = int(input())\n",
        "\n",
        "wordset = 0\n",
        "for i in range(n):\n",
        "  word = input()\n",
        "  error = 0\n",
        "  for index in range(len(word)-1):\n",
        "    if word[index] != word[index+1]:\n",
        "      new_word = word[index+1:]\n",
        "      if new_word.count(word[index]) > 0:\n",
        "        error += 1\n",
        "  if error == 0:\n",
        "    wordset +=1\n",
        "print(wordset)"
      ],
      "metadata": {
        "colab": {
          "base_uri": "https://localhost:8080/"
        },
        "id": "P5MCyi7zWcet",
        "outputId": "b6a43b0a-3788-4aa1-9ee1-ee7116b8642b"
      },
      "execution_count": 4,
      "outputs": [
        {
          "output_type": "stream",
          "name": "stdout",
          "text": [
            "3\n",
            "happy\n",
            "new\n",
            "year\n",
            "3\n"
          ]
        }
      ]
    },
    {
      "cell_type": "markdown",
      "source": [
        "다시 풀어보기"
      ],
      "metadata": {
        "id": "tyQJnz61Z-vs"
      }
    },
    {
      "cell_type": "markdown",
      "source": [
        "#25206번 너의 평점은"
      ],
      "metadata": {
        "id": "WhveeWx-RBqG"
      }
    },
    {
      "cell_type": "code",
      "source": [
        "rating = ['A+', 'A0', 'B+', 'B0', 'C+', 'C0', 'D+', 'D0', 'F']\n",
        "grade = [4.5, 4.0, 3.5, 3.0, 2.5, 2.0, 1.5, 1.0, 0]\n",
        "\n",
        "total = 0\n",
        "result =0\n",
        "for i in range(20):\n",
        "  subject,credit,g = input().split()\n",
        "  credit = float(credit)\n",
        "  if g != 'P':\n",
        "    total += credit\n",
        "    result += credit * grade[rating.index(g)]\n",
        "\n",
        "print('%.6f'%(result / total))"
      ],
      "metadata": {
        "id": "lFy5ZOClRFzP",
        "colab": {
          "base_uri": "https://localhost:8080/"
        },
        "outputId": "92e5a967-4816-41cd-a822-b494c7d0d1be"
      },
      "execution_count": 7,
      "outputs": [
        {
          "output_type": "stream",
          "name": "stdout",
          "text": [
            "ObjectOrientedProgramming1 3.0 A+\n",
            "IntroductiontoComputerEngineering 3.0 A+\n",
            "ObjectOrientedProgramming2 3.0 A0\n",
            "CreativeComputerEngineeringDesign 3.0 A+\n",
            "AssemblyLanguage 3.0 A+\n",
            "InternetProgramming 3.0 B0\n",
            "ApplicationProgramminginJava 3.0 A0\n",
            "SystemProgramming 3.0 B0\n",
            "OperatingSystem 3.0 B0\n",
            "WirelessCommunicationsandNetworking 3.0 C+\n",
            "LogicCircuits 3.0 B0\n",
            "DataStructure 4.0 A+\n",
            "MicroprocessorApplication 3.0 B+\n",
            "EmbeddedSoftware 3.0 C0\n",
            "ComputerSecurity 3.0 D+\n",
            "Database 3.0 C+\n",
            "Algorithm 3.0 B0\n",
            "CapstoneDesigninCSE 3.0 B+\n",
            "CompilerDesign 3.0 D0\n",
            "ProblemSolving 4.0 P\n",
            "3.284483\n"
          ]
        }
      ]
    },
    {
      "cell_type": "code",
      "source": [],
      "metadata": {
        "id": "npmLlmZNdMhy"
      },
      "execution_count": null,
      "outputs": []
    }
  ]
}
