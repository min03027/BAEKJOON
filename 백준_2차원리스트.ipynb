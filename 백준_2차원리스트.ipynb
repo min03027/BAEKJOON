{
  "nbformat": 4,
  "nbformat_minor": 0,
  "metadata": {
    "colab": {
      "provenance": [],
      "authorship_tag": "ABX9TyO7NYqMMJY1ObALNfq/Nm5b",
      "include_colab_link": true
    },
    "kernelspec": {
      "name": "python3",
      "display_name": "Python 3"
    },
    "language_info": {
      "name": "python"
    }
  },
  "cells": [
    {
      "cell_type": "markdown",
      "metadata": {
        "id": "view-in-github",
        "colab_type": "text"
      },
      "source": [
        "<a href=\"https://colab.research.google.com/github/min03027/BAEKJOON/blob/main/%EB%B0%B1%EC%A4%80_2%EC%B0%A8%EC%9B%90%EB%A6%AC%EC%8A%A4%ED%8A%B8.ipynb\" target=\"_parent\"><img src=\"https://colab.research.google.com/assets/colab-badge.svg\" alt=\"Open In Colab\"/></a>"
      ]
    },
    {
      "cell_type": "markdown",
      "source": [
        "#2738번 행렬 덧셈"
      ],
      "metadata": {
        "id": "sNOO79wWSAGk"
      }
    },
    {
      "cell_type": "code",
      "source": [
        "n,m = map(input().split())\n",
        "A,B = [],[]\n",
        "for i in range(n):\n",
        "  a = list(map(int,input().split()))\n",
        "  A.append(a)\n",
        "\n",
        "for i in range(n):\n",
        "  b = list(map(int,input().split()))\n",
        "  B.append(b)\n",
        "\n",
        "for i in range(n):\n",
        "  for j in range(m):\n",
        "    result = A[i][j] + B[i][j]\n",
        "    print(result,end=' ')\n",
        "  print()"
      ],
      "metadata": {
        "id": "3wABszkMUjbn"
      },
      "execution_count": null,
      "outputs": []
    },
    {
      "cell_type": "markdown",
      "source": [
        "#2566번 최댓값"
      ],
      "metadata": {
        "id": "UHjuU3B3SFBh"
      }
    },
    {
      "cell_type": "code",
      "source": [
        "table = [list(map(int,input().split())) for _ in range(9)]\n",
        "\n",
        "max_num = 0\n",
        "max_row,max_col = 0, 0\n",
        "for row in range(9):\n",
        "  for col in range(9):\n",
        "    if max_num <= table[row][col]:\n",
        "      max_row = row + 1\n",
        "      max_col = col + 1\n",
        "      max_num = table[row][col]\n",
        "\n",
        "print(max_num)\n",
        "print(max_row,max_col)"
      ],
      "metadata": {
        "id": "3N-b0pkBSMml"
      },
      "execution_count": null,
      "outputs": []
    },
    {
      "cell_type": "markdown",
      "source": [
        "#10798번 세로읽기"
      ],
      "metadata": {
        "id": "pPBVUzaSSNFp"
      }
    },
    {
      "cell_type": "code",
      "source": [
        "words = [input() for i in range(5)]\n",
        "for i in range(5):\n",
        "  for j in range(5):\n",
        "    # if i < len(words[j]):\n",
        "       print(words[j][i],end = '')"
      ],
      "metadata": {
        "colab": {
          "base_uri": "https://localhost:8080/"
        },
        "id": "HDp19PL5SQBV",
        "outputId": "3e63f04c-e88d-41b0-ed3d-caeaf8c63999"
      },
      "execution_count": 4,
      "outputs": [
        {
          "output_type": "stream",
          "name": "stdout",
          "text": [
            "ABCDE\n",
            "abcde\n",
            "01234\n",
            "FGHIJ\n",
            "fghij\n",
            "Aa0FfBb1GgCc2HhDd3IiEe4Jj"
          ]
        }
      ]
    },
    {
      "cell_type": "markdown",
      "source": [
        "내가 푼 답\n",
        ": 예외처리에서 막혔다"
      ],
      "metadata": {
        "id": "4v9tx4LlY4Gh"
      }
    },
    {
      "cell_type": "code",
      "source": [
        "words = [input() for i in range(5)]\n",
        "\n",
        "for j in range(15):\n",
        "    for i in range(5):\n",
        "        if j < len(words[i]):\n",
        "            print(words[i][j], end='')"
      ],
      "metadata": {
        "id": "sd5JsRuiY7BV"
      },
      "execution_count": null,
      "outputs": []
    },
    {
      "cell_type": "markdown",
      "source": [
        "정답 : 최대 15글자이기 때문에 range를 15로잡고, 예외처리"
      ],
      "metadata": {
        "id": "ORIzVoo2Y_R5"
      }
    },
    {
      "cell_type": "markdown",
      "source": [
        "#2563번 색종이"
      ],
      "metadata": {
        "id": "D6nyCa9rSQvV"
      }
    },
    {
      "cell_type": "code",
      "source": [
        "ary = [[0 for _ in range(101)]for _ in range(101)]\n",
        "count = int(input())\n",
        "for i in range(count):\n",
        "  n,m = list(map(int,input().split()))\n",
        "\n",
        "  for row in range(n,n+10):\n",
        "    for col in range(m,m+10):\n",
        "      ary[row][col] = 1\n",
        "\n",
        "result = 0\n",
        "\n",
        "for i in ary:\n",
        "  result+=i.count(1)\n",
        "print(result)\n"
      ],
      "metadata": {
        "id": "QgM3zDv-SS2C"
      },
      "execution_count": null,
      "outputs": []
    }
  ]
}