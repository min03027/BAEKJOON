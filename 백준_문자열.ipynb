{
  "nbformat": 4,
  "nbformat_minor": 0,
  "metadata": {
    "colab": {
      "provenance": [],
      "authorship_tag": "ABX9TyOl+bf5BL77YT+8aUTS+ked",
      "include_colab_link": true
    },
    "kernelspec": {
      "name": "python3",
      "display_name": "Python 3"
    },
    "language_info": {
      "name": "python"
    }
  },
  "cells": [
    {
      "cell_type": "markdown",
      "metadata": {
        "id": "view-in-github",
        "colab_type": "text"
      },
      "source": [
        "<a href=\"https://colab.research.google.com/github/min03027/BAEKJOON/blob/main/%EB%B0%B1%EC%A4%80_%EB%AC%B8%EC%9E%90%EC%97%B4.ipynb\" target=\"_parent\"><img src=\"https://colab.research.google.com/assets/colab-badge.svg\" alt=\"Open In Colab\"/></a>"
      ]
    },
    {
      "cell_type": "markdown",
      "source": [
        "#27866번 문자와 문자열"
      ],
      "metadata": {
        "id": "RX5ErkyXf__R"
      }
    },
    {
      "cell_type": "code",
      "execution_count": null,
      "metadata": {
        "colab": {
          "base_uri": "https://localhost:8080/"
        },
        "id": "PWtIMIUJfttW",
        "outputId": "ae530029-1ff7-4e89-8624-5fbea4e2483a"
      },
      "outputs": [
        {
          "output_type": "stream",
          "name": "stdout",
          "text": [
            "sprout\n",
            "3\n",
            "r\n"
          ]
        }
      ],
      "source": [
        "word=input()\n",
        "num = int(input())\n",
        "print(word[num-1])"
      ]
    },
    {
      "cell_type": "markdown",
      "source": [
        "#2743번 단어 길이 재기"
      ],
      "metadata": {
        "id": "7XC3MG5igFKP"
      }
    },
    {
      "cell_type": "code",
      "source": [
        "word = input()\n",
        "print(len(word))"
      ],
      "metadata": {
        "id": "-QPVnDA2gIf7",
        "colab": {
          "base_uri": "https://localhost:8080/"
        },
        "outputId": "6f8463e6-8983-4c9e-b3fb-1a0ad2314d95"
      },
      "execution_count": null,
      "outputs": [
        {
          "output_type": "stream",
          "name": "stdout",
          "text": [
            "pulljima\n",
            "8\n"
          ]
        }
      ]
    },
    {
      "cell_type": "markdown",
      "source": [
        "#9086번 문자열"
      ],
      "metadata": {
        "id": "c8QBOZwrgI_t"
      }
    },
    {
      "cell_type": "code",
      "source": [
        "num = int(input())\n",
        "for i in range(num):\n",
        "  test_case = input()\n",
        "  a = len(test_case)\n",
        "  print(test_case[0]+test_case[a-1])"
      ],
      "metadata": {
        "colab": {
          "base_uri": "https://localhost:8080/"
        },
        "id": "oyiLWxPYTN-A",
        "outputId": "375a2da0-c7fe-43c7-96aa-cf9754a8554b"
      },
      "execution_count": null,
      "outputs": [
        {
          "output_type": "stream",
          "name": "stdout",
          "text": [
            "3\n",
            "agfgfs\n",
            "as\n",
            "00\n",
            "00\n",
            "ag\n",
            "ag\n"
          ]
        }
      ]
    },
    {
      "cell_type": "markdown",
      "source": [
        "#11654번 아스키 코드"
      ],
      "metadata": {
        "id": "uzfFMy3wgL_f"
      }
    },
    {
      "cell_type": "code",
      "source": [
        "word = input()\n",
        "print(ord(word))"
      ],
      "metadata": {
        "id": "qV-J6cHfgOs7",
        "colab": {
          "base_uri": "https://localhost:8080/"
        },
        "outputId": "73baf1ce-ab6a-4ee6-98f3-1ff3be2d0d5c"
      },
      "execution_count": null,
      "outputs": [
        {
          "output_type": "stream",
          "name": "stdout",
          "text": [
            "A\n",
            "65\n"
          ]
        }
      ]
    },
    {
      "cell_type": "markdown",
      "source": [
        "#11720번 숫자의 합"
      ],
      "metadata": {
        "id": "7iqzjmGbg5iM"
      }
    },
    {
      "cell_type": "code",
      "source": [
        "n = int(input())\n",
        "a= list(map(int,input()))\n",
        "print(sum(a))"
      ],
      "metadata": {
        "id": "iPYI_9DRZPUM"
      },
      "execution_count": null,
      "outputs": []
    },
    {
      "cell_type": "markdown",
      "source": [
        "#10809번 알파벳 찾기"
      ],
      "metadata": {
        "id": "kSzLuH5ig9qX"
      }
    },
    {
      "cell_type": "code",
      "source": [
        "s = input()\n",
        "for i in range(25):\n",
        "  if j not in list:\n",
        "    print(\"-1\")\n",
        "  else:\n",
        "    print(s.find(x))"
      ],
      "metadata": {
        "id": "ZWGGMv8chBn-"
      },
      "execution_count": null,
      "outputs": []
    },
    {
      "cell_type": "markdown",
      "source": [
        "find를 찾아쓴 것 까지 좋은 접근 !!"
      ],
      "metadata": {
        "id": "IxsaKtXtcU3Z"
      }
    },
    {
      "cell_type": "code",
      "source": [
        "s = input()\n",
        "for x in 'abcdefghijklmnopqrstuvwxyz':\n",
        "  print(s.find(x),end=' ')"
      ],
      "metadata": {
        "colab": {
          "base_uri": "https://localhost:8080/"
        },
        "id": "itqahTnmbuus",
        "outputId": "a8191c56-9d56-4168-a174-36e6a76d8fcf"
      },
      "execution_count": null,
      "outputs": [
        {
          "output_type": "stream",
          "name": "stdout",
          "text": [
            "baekjoon\n",
            "1 0 -1 -1 2 -1 -1 -1 -1 4 3 -1 -1 7 5 -1 -1 -1 -1 -1 -1 -1 -1 -1 -1 -1 "
          ]
        }
      ]
    },
    {
      "cell_type": "markdown",
      "source": [
        "#2675번 문자열 반복"
      ],
      "metadata": {
        "id": "tbCQjCoMZXzJ"
      }
    },
    {
      "cell_type": "code",
      "source": [
        "T = int(input())\n",
        "for i in range(T):\n",
        "  r ,s = input().split()\n",
        "  r= int(r)\n",
        "  s = str(s)\n",
        "  for i in range(len(s)):\n",
        "    print(s[i]*r,end='')\n",
        "  print('')"
      ],
      "metadata": {
        "colab": {
          "base_uri": "https://localhost:8080/"
        },
        "id": "dFQ-CFYkZdL7",
        "outputId": "34dba056-ef8f-4d5f-abe2-675f7cadd549"
      },
      "execution_count": null,
      "outputs": [
        {
          "output_type": "stream",
          "name": "stdout",
          "text": [
            "2\n",
            "3 ABC\n",
            "AAABBBCCC\n",
            "5 /HTP\n",
            "/////HHHHHTTTTTPPPPP\n"
          ]
        }
      ]
    },
    {
      "cell_type": "markdown",
      "source": [
        "문자열 슬라이싱을 유념할 것 !!!"
      ],
      "metadata": {
        "id": "lALVlJKlhZfj"
      }
    },
    {
      "cell_type": "markdown",
      "source": [
        "#1152번 단어의 개수"
      ],
      "metadata": {
        "id": "WO2ooDhEhCQz"
      }
    },
    {
      "cell_type": "code",
      "source": [
        "sentence =input()\n",
        "no_space = sentence.strip()\n",
        "a= no_space.count(' ')\n",
        "print(a+1)"
      ],
      "metadata": {
        "id": "lNCjLTxohGLi",
        "colab": {
          "base_uri": "https://localhost:8080/"
        },
        "outputId": "ceacb13e-6a2d-4fd5-b9df-b197ed88504a"
      },
      "execution_count": null,
      "outputs": [
        {
          "output_type": "stream",
          "name": "stdout",
          "text": [
            "The last character is a blank \n",
            "6\n"
          ]
        }
      ]
    },
    {
      "cell_type": "markdown",
      "source": [
        "내가 풀이한 답"
      ],
      "metadata": {
        "id": "r_hY175ZkF5G"
      }
    },
    {
      "cell_type": "code",
      "source": [
        "word = input().split()\n",
        "print(len(word))\n",
        "#print(len(input().split()))"
      ],
      "metadata": {
        "id": "L2TCucLTjrFP"
      },
      "execution_count": null,
      "outputs": []
    },
    {
      "cell_type": "markdown",
      "source": [
        "정답"
      ],
      "metadata": {
        "id": "nPC3z525kVJU"
      }
    },
    {
      "cell_type": "markdown",
      "source": [
        "#2908번 상수"
      ],
      "metadata": {
        "id": "RRm1PI0vhGoz"
      }
    },
    {
      "cell_type": "code",
      "source": [
        "a,b = input().split()\n",
        "re_a = (str(a)[::-1])\n",
        "re_b = (str(b)[::-1])\n",
        "if re_a > re_b:\n",
        "  print(re_a)\n",
        "else:\n",
        "  print(re_b)"
      ],
      "metadata": {
        "id": "lViAZwrdhIs0",
        "colab": {
          "base_uri": "https://localhost:8080/"
        },
        "outputId": "fea83709-6910-4b06-d499-389519760be9"
      },
      "execution_count": null,
      "outputs": [
        {
          "output_type": "stream",
          "name": "stdout",
          "text": [
            "734 893\n",
            "437\n"
          ]
        }
      ]
    },
    {
      "cell_type": "markdown",
      "source": [
        "#5622번 다이얼"
      ],
      "metadata": {
        "id": "TluuJqYhhJKX"
      }
    },
    {
      "cell_type": "code",
      "source": [
        "word = input()\n",
        "n =[]\n",
        "sum = 2\n",
        "for i in word:\n",
        "  n.append(ord(i)-64)\n",
        "print(n)"
      ],
      "metadata": {
        "id": "J8rBTgKChLAM",
        "colab": {
          "base_uri": "https://localhost:8080/"
        },
        "outputId": "c63c3a1c-3caa-4fa6-99b1-d4d98443e36f"
      },
      "execution_count": null,
      "outputs": [
        {
          "output_type": "stream",
          "name": "stdout",
          "text": [
            "WA\n",
            "[23, 1]\n"
          ]
        }
      ]
    },
    {
      "cell_type": "code",
      "source": [
        "dial = [ABC,DEF,GHI,JKL,MNO,PQRS,TUV,WXYZ]\n",
        "sum = 2\n",
        "word = input()\n",
        "for i in range(len(word)):\n",
        "  if word(i) in dial:\n",
        "    sum =+"
      ],
      "metadata": {
        "id": "26-5Q0Lpn2hF"
      },
      "execution_count": null,
      "outputs": []
    },
    {
      "cell_type": "markdown",
      "source": [
        "내가한것"
      ],
      "metadata": {
        "id": "HRFsF0BRqyDo"
      }
    },
    {
      "cell_type": "code",
      "source": [
        "dial = ['','ABC','DEF','GHI','JKL','MNO','PQRS','TUV','WXYZ']\n",
        "word = str(input())\n",
        "time = 0\n",
        "for j in range(len(word)):\n",
        "  for i in range(len(dial)):\n",
        "    if word[j] in dial[i]:\n",
        "      time += dial.index(dial[i])+2\n",
        "print(time)"
      ],
      "metadata": {
        "colab": {
          "base_uri": "https://localhost:8080/"
        },
        "id": "rrEubhuPJb0P",
        "outputId": "4bd238be-ff37-44ec-d2ea-36147cca8616"
      },
      "execution_count": 4,
      "outputs": [
        {
          "output_type": "stream",
          "name": "stdout",
          "text": [
            "WA\n",
            "13\n"
          ]
        }
      ]
    },
    {
      "cell_type": "markdown",
      "source": [
        "다시 해보기"
      ],
      "metadata": {
        "id": "iPkqy02-MMbI"
      }
    },
    {
      "cell_type": "markdown",
      "source": [
        "#11718번 그대로 출력하기"
      ],
      "metadata": {
        "id": "S_RNzqaDhLnq"
      }
    },
    {
      "cell_type": "code",
      "source": [
        "word = input()\n",
        "print(word)"
      ],
      "metadata": {
        "id": "-2q6CuqWhPle",
        "colab": {
          "base_uri": "https://localhost:8080/"
        },
        "outputId": "0a2d29ee-09a2-4a8d-a751-c951a0a7dcd3"
      },
      "execution_count": 8,
      "outputs": [
        {
          "output_type": "stream",
          "name": "stdout",
          "text": [
            "Hello \\n Baekjoon \\n Online Judge\n",
            "Hello \\n Baekjoon \\n Online Judge\n"
          ]
        }
      ]
    },
    {
      "cell_type": "code",
      "source": [
        "import sys\n",
        "s = sys.stdin.readlines()\n",
        "for i in s:\n",
        "    print(i.rstrip())"
      ],
      "metadata": {
        "id": "KuReX0opOOMF"
      },
      "execution_count": null,
      "outputs": []
    },
    {
      "cell_type": "markdown",
      "source": [
        "수정 구문"
      ],
      "metadata": {
        "id": "rpCEDmTHOykZ"
      }
    }
  ]
}