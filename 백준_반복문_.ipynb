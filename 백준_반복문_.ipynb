{
  "nbformat": 4,
  "nbformat_minor": 0,
  "metadata": {
    "colab": {
      "provenance": [],
      "authorship_tag": "ABX9TyPN7xFix+lsbLZA2zlS3wKB",
      "include_colab_link": true
    },
    "kernelspec": {
      "name": "python3",
      "display_name": "Python 3"
    },
    "language_info": {
      "name": "python"
    }
  },
  "cells": [
    {
      "cell_type": "markdown",
      "metadata": {
        "id": "view-in-github",
        "colab_type": "text"
      },
      "source": [
        "<a href=\"https://colab.research.google.com/github/min03027/BAEKJOON/blob/main/%EB%B0%B1%EC%A4%80_%EB%B0%98%EB%B3%B5%EB%AC%B8_.ipynb\" target=\"_parent\"><img src=\"https://colab.research.google.com/assets/colab-badge.svg\" alt=\"Open In Colab\"/></a>"
      ]
    },
    {
      "cell_type": "markdown",
      "source": [
        "# 2739번 구구단"
      ],
      "metadata": {
        "id": "nF4fd3tCpczv"
      }
    },
    {
      "cell_type": "code",
      "execution_count": 15,
      "metadata": {
        "colab": {
          "base_uri": "https://localhost:8080/"
        },
        "id": "MQDnZioKmv97",
        "outputId": "4d8638f8-0d24-434a-bab2-f61252eac2d8"
      },
      "outputs": [
        {
          "output_type": "stream",
          "name": "stdout",
          "text": [
            "2\n",
            "2 * 1 = 2\n",
            "2 * 2 = 4\n",
            "2 * 3 = 6\n",
            "2 * 4 = 8\n",
            "2 * 5 = 10\n",
            "2 * 6 = 12\n",
            "2 * 7 = 14\n",
            "2 * 8 = 16\n",
            "2 * 9 = 18\n"
          ]
        }
      ],
      "source": [
        "N = int(input())\n",
        "for i in range(1,10):\n",
        "  num = '%d * %d = %d'%(N,i,N*i)\n",
        "  print(num)"
      ]
    },
    {
      "cell_type": "markdown",
      "source": [
        "# 10950번 A+B-3"
      ],
      "metadata": {
        "id": "3FDWCWQdphxs"
      }
    },
    {
      "cell_type": "code",
      "source": [
        "T = int(input())\n",
        "for i in range (T):\n",
        "  A,B = map(int,input().split())\n",
        "  print(A+B)"
      ],
      "metadata": {
        "colab": {
          "base_uri": "https://localhost:8080/"
        },
        "id": "wY2BKuXjnf2K",
        "outputId": "1a83e772-65fe-4b5f-a554-0718fce51a39"
      },
      "execution_count": 23,
      "outputs": [
        {
          "output_type": "stream",
          "name": "stdout",
          "text": [
            "5\n",
            "1 1\n",
            "2\n",
            "2 3\n",
            "5\n",
            "3 4\n",
            "7\n",
            "9 8\n",
            "17\n",
            "5 2\n",
            "7\n"
          ]
        }
      ]
    },
    {
      "cell_type": "markdown",
      "source": [
        "# 8393번 합"
      ],
      "metadata": {
        "id": "WPPme9i-zNaQ"
      }
    },
    {
      "cell_type": "code",
      "source": [
        "n = int(input())\n",
        "sum = 0\n",
        "for i in range (1,n+1):\n",
        "  sum += i\n",
        "print(sum)"
      ],
      "metadata": {
        "colab": {
          "base_uri": "https://localhost:8080/"
        },
        "id": "Tw-N3KtVzQSy",
        "outputId": "41650a20-c540-4483-f09a-34f717b96731"
      },
      "execution_count": 26,
      "outputs": [
        {
          "output_type": "stream",
          "name": "stdout",
          "text": [
            "3\n",
            "6\n"
          ]
        }
      ]
    },
    {
      "cell_type": "markdown",
      "source": [
        "#25304번 영수증"
      ],
      "metadata": {
        "id": "YE0ZAX4Xwcr0"
      }
    },
    {
      "cell_type": "code",
      "source": [
        "X = int(input())\n",
        "N = int(input())\n",
        "price = 0\n",
        "for i in range (N):\n",
        "  a,b = map(int,input().split())\n",
        "  price += a*b\n",
        "if price == X:\n",
        "  print (\"Yes\")\n",
        "else:\n",
        "  print(\"No\")"
      ],
      "metadata": {
        "colab": {
          "base_uri": "https://localhost:8080/"
        },
        "id": "YEiZLmstwSRY",
        "outputId": "f3ab6bf2-1243-47d1-f327-a5dc2ca9a190"
      },
      "execution_count": 25,
      "outputs": [
        {
          "output_type": "stream",
          "name": "stdout",
          "text": [
            "250000\n",
            "2\n",
            "1000 1\n",
            "1000 2\n",
            "No\n"
          ]
        }
      ]
    },
    {
      "cell_type": "markdown",
      "source": [
        "#25314번 코딩은 체육과목 입니다"
      ],
      "metadata": {
        "id": "KIkwoAKZztxi"
      }
    },
    {
      "cell_type": "code",
      "source": [
        "N = int(input())\n",
        "for i in range (N//4):\n",
        "  print(\"long\",end=' ')\n",
        "\n",
        "print(\"int\")"
      ],
      "metadata": {
        "colab": {
          "base_uri": "https://localhost:8080/"
        },
        "id": "vN3K-erey38k",
        "outputId": "2c459a22-8bde-43b4-8b50-4884a195a60c"
      },
      "execution_count": 31,
      "outputs": [
        {
          "output_type": "stream",
          "name": "stdout",
          "text": [
            "4\n",
            "long int\n"
          ]
        }
      ]
    },
    {
      "cell_type": "markdown",
      "source": [
        "#15552 빠른 A+B"
      ],
      "metadata": {
        "id": "hklQAxV9zytU"
      }
    },
    {
      "cell_type": "code",
      "source": [
        "import sys\n",
        "t = int(sys.stdin.readline())\n",
        "\n",
        "for i in range(t):\n",
        "    a,b = map(int, sys.stdin.readline().split())\n",
        "    print(a+b)"
      ],
      "metadata": {
        "colab": {
          "base_uri": "https://localhost:8080/",
          "height": 248
        },
        "id": "93Vg6uvr7xUu",
        "outputId": "2a8a9a3e-5553-46b1-da0c-d1da3b11d8c6"
      },
      "execution_count": 43,
      "outputs": [
        {
          "output_type": "error",
          "ename": "ValueError",
          "evalue": "ignored",
          "traceback": [
            "\u001b[0;31m---------------------------------------------------------------------------\u001b[0m",
            "\u001b[0;31mValueError\u001b[0m                                Traceback (most recent call last)",
            "\u001b[0;32m<ipython-input-43-bb4dbfca714f>\u001b[0m in \u001b[0;36m<cell line: 2>\u001b[0;34m()\u001b[0m\n\u001b[1;32m      1\u001b[0m \u001b[0;32mimport\u001b[0m \u001b[0msys\u001b[0m\u001b[0;34m\u001b[0m\u001b[0;34m\u001b[0m\u001b[0m\n\u001b[0;32m----> 2\u001b[0;31m \u001b[0mt\u001b[0m \u001b[0;34m=\u001b[0m \u001b[0mint\u001b[0m\u001b[0;34m(\u001b[0m\u001b[0msys\u001b[0m\u001b[0;34m.\u001b[0m\u001b[0mstdin\u001b[0m\u001b[0;34m.\u001b[0m\u001b[0mreadline\u001b[0m\u001b[0;34m(\u001b[0m\u001b[0;34m)\u001b[0m\u001b[0;34m)\u001b[0m\u001b[0;34m\u001b[0m\u001b[0;34m\u001b[0m\u001b[0m\n\u001b[0m\u001b[1;32m      3\u001b[0m \u001b[0;34m\u001b[0m\u001b[0m\n\u001b[1;32m      4\u001b[0m \u001b[0;32mfor\u001b[0m \u001b[0mi\u001b[0m \u001b[0;32min\u001b[0m \u001b[0mrange\u001b[0m\u001b[0;34m(\u001b[0m\u001b[0mt\u001b[0m\u001b[0;34m)\u001b[0m\u001b[0;34m:\u001b[0m\u001b[0;34m\u001b[0m\u001b[0;34m\u001b[0m\u001b[0m\n\u001b[1;32m      5\u001b[0m     \u001b[0ma\u001b[0m\u001b[0;34m,\u001b[0m\u001b[0mb\u001b[0m \u001b[0;34m=\u001b[0m \u001b[0mmap\u001b[0m\u001b[0;34m(\u001b[0m\u001b[0mint\u001b[0m\u001b[0;34m,\u001b[0m \u001b[0msys\u001b[0m\u001b[0;34m.\u001b[0m\u001b[0mstdin\u001b[0m\u001b[0;34m.\u001b[0m\u001b[0mreadline\u001b[0m\u001b[0;34m(\u001b[0m\u001b[0;34m)\u001b[0m\u001b[0;34m.\u001b[0m\u001b[0msplit\u001b[0m\u001b[0;34m(\u001b[0m\u001b[0;34m)\u001b[0m\u001b[0;34m)\u001b[0m\u001b[0;34m\u001b[0m\u001b[0;34m\u001b[0m\u001b[0m\n",
            "\u001b[0;31mValueError\u001b[0m: invalid literal for int() with base 10: ''"
          ]
        }
      ]
    },
    {
      "cell_type": "code",
      "source": [
        "import sys\n",
        "t = int(sys.stdin.readline())\n",
        "\n",
        "for i in range(t):\n",
        "    a,b = map(int, sys.stdin.readline().split())\n",
        "    print(a+b)"
      ],
      "metadata": {
        "id": "BvFtVQo08X_W"
      },
      "execution_count": null,
      "outputs": []
    },
    {
      "cell_type": "markdown",
      "source": [
        "#11021번 A+B-7"
      ],
      "metadata": {
        "id": "rdiKHTXcz3Wh"
      }
    },
    {
      "cell_type": "code",
      "source": [
        "T = int(input())\n",
        "for i in range (1,T+1):\n",
        "  a,b=map(int,input().split())\n",
        "  case = 'Case #%d: %d'%(i,a+b)\n",
        "  print(case)"
      ],
      "metadata": {
        "colab": {
          "base_uri": "https://localhost:8080/"
        },
        "id": "Jr59GU_tz9fi",
        "outputId": "ba2d0d2c-eff4-4180-bca1-5ef498e1155f"
      },
      "execution_count": 49,
      "outputs": [
        {
          "output_type": "stream",
          "name": "stdout",
          "text": [
            "2\n",
            "1 1\n",
            "Case #1: 2\n",
            "2 3\n",
            "Case #2: 5\n"
          ]
        }
      ]
    },
    {
      "cell_type": "markdown",
      "source": [
        "#11022번 A+B-8"
      ],
      "metadata": {
        "id": "q_Bzw_eez-KG"
      }
    },
    {
      "cell_type": "code",
      "source": [
        "T = int(input())\n",
        "for i in range (1,T+1):\n",
        "  a,b=map(int,input().split())\n",
        "  case = 'Case #%d: %d + %d = %d'%(i,a,b,a+b)\n",
        "  print(case)"
      ],
      "metadata": {
        "colab": {
          "base_uri": "https://localhost:8080/"
        },
        "id": "UCH0ZmZR0Bx0",
        "outputId": "56616644-514f-4b61-e80a-e5b112312ef5"
      },
      "execution_count": 51,
      "outputs": [
        {
          "output_type": "stream",
          "name": "stdout",
          "text": [
            "2\n",
            "1 1\n",
            "Case #1: 1 + 1 = 2\n",
            "2 3\n",
            "Case #2: 2 + 3 = 5\n"
          ]
        }
      ]
    },
    {
      "cell_type": "markdown",
      "source": [
        "#2438번 별 찍기 -1"
      ],
      "metadata": {
        "id": "1T-nmhJy0Cc_"
      }
    },
    {
      "cell_type": "code",
      "source": [
        "N = int(input())\n",
        "for i in range (N):\n",
        "  for j in range (i+1):\n",
        "    print(\"*\",end='')\n",
        "  print(\" \")"
      ],
      "metadata": {
        "colab": {
          "base_uri": "https://localhost:8080/"
        },
        "id": "PBMes2au0FtE",
        "outputId": "022932ca-9d7b-4910-c149-f01f8d083238"
      },
      "execution_count": 64,
      "outputs": [
        {
          "output_type": "stream",
          "name": "stdout",
          "text": [
            "3\n",
            "* \n",
            "** \n",
            "*** \n"
          ]
        }
      ]
    },
    {
      "cell_type": "markdown",
      "source": [
        "#2439번 별 찍기 -2"
      ],
      "metadata": {
        "id": "8vvaGrwC0GXh"
      }
    },
    {
      "cell_type": "code",
      "source": [
        "N = int(input())\n",
        "for i in range (N):\n",
        "  for j in range (N-i-1):\n",
        "    print(\" \",end='')\n",
        "  for j in range (i+1):\n",
        "    print(\"*\",end='')\n",
        "  print(\" \")"
      ],
      "metadata": {
        "colab": {
          "base_uri": "https://localhost:8080/"
        },
        "id": "ff-bEnQG0KW5",
        "outputId": "f4c6a5f7-a681-4a48-c280-2713e8913ba0"
      },
      "execution_count": 68,
      "outputs": [
        {
          "output_type": "stream",
          "name": "stdout",
          "text": [
            "5\n",
            "    * \n",
            "   ** \n",
            "  *** \n",
            " **** \n",
            "***** \n"
          ]
        }
      ]
    },
    {
      "cell_type": "markdown",
      "source": [
        "#10952번 A+B-5"
      ],
      "metadata": {
        "id": "6TV1Ms4j0OJ7"
      }
    },
    {
      "cell_type": "code",
      "source": [
        "while True:\n",
        "  a,b=map(int,input().split())\n",
        "  if a==0 and b==0:\n",
        "    break\n",
        "  else:\n",
        "    print(a+b)"
      ],
      "metadata": {
        "colab": {
          "base_uri": "https://localhost:8080/"
        },
        "id": "d3q5Lc6y0SiB",
        "outputId": "076370da-de9c-48cc-d11f-4a9d36712e9c"
      },
      "execution_count": 70,
      "outputs": [
        {
          "name": "stdout",
          "output_type": "stream",
          "text": [
            "1 1\n",
            "2\n",
            "2 3\n",
            "5\n",
            "0 0\n"
          ]
        }
      ]
    },
    {
      "cell_type": "markdown",
      "source": [
        "#10951번 A+B-4\n",
        "꼭 다시 한번 확인하기"
      ],
      "metadata": {
        "id": "zRabcBD90S13"
      }
    },
    {
      "cell_type": "code",
      "source": [
        "for i in range (5):\n",
        "  a,b=map(int,input().split())\n",
        "  print(a+b)"
      ],
      "metadata": {
        "colab": {
          "base_uri": "https://localhost:8080/"
        },
        "id": "aMVFkmoi0V1z",
        "outputId": "199aaeb9-11ff-4cd0-b068-009c901e5b74"
      },
      "execution_count": 75,
      "outputs": [
        {
          "output_type": "stream",
          "name": "stdout",
          "text": [
            "1 1\n",
            "2\n",
            "2 3\n",
            "5\n",
            "3 4\n",
            "7\n",
            "9 8\n",
            "17\n",
            "5 2\n",
            "7\n"
          ]
        }
      ]
    },
    {
      "cell_type": "markdown",
      "source": [
        "나의 코드"
      ],
      "metadata": {
        "id": "bwwkdHT3JXJv"
      }
    },
    {
      "cell_type": "code",
      "source": [
        "while True:\n",
        "    try:\n",
        "        a, b = map(int, input().split())\n",
        "    except:\n",
        "        break\n",
        "    print(a+b)"
      ],
      "metadata": {
        "colab": {
          "base_uri": "https://localhost:8080/"
        },
        "id": "eAxg-NuTIhXV",
        "outputId": "f0ad8431-baef-4ade-f120-511929be19f2"
      },
      "execution_count": 76,
      "outputs": [
        {
          "name": "stdout",
          "output_type": "stream",
          "text": [
            "1 1\n",
            "2\n",
            "2 3\n",
            "5\n",
            "3 4\n",
            "7\n",
            "5 2\n",
            "7\n",
            "\n"
          ]
        }
      ]
    },
    {
      "cell_type": "markdown",
      "source": [
        "수정 코드"
      ],
      "metadata": {
        "id": "Sr47ZykfJfTu"
      }
    }
  ]
}